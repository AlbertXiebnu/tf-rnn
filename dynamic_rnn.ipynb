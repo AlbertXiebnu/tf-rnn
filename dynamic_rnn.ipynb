{
 "cells": [
  {
   "cell_type": "code",
   "execution_count": 1,
   "metadata": {
    "collapsed": true
   },
   "outputs": [],
   "source": [
    "import tensorflow as tf\n",
    "import numpy as np"
   ]
  },
  {
   "cell_type": "code",
   "execution_count": 3,
   "metadata": {
    "collapsed": false
   },
   "outputs": [
    {
     "name": "stdout",
     "output_type": "stream",
     "text": [
      "[[[-0.11262857 -0.03236551 -0.04023334 ..., -0.03730043 -0.02777032\n",
      "   -0.07268167]\n",
      "  [-0.04592313  0.02984233  0.03033177 ..., -0.17467286 -0.14297455\n",
      "   -0.03876409]\n",
      "  [-0.15174234 -0.0087324  -0.04326478 ..., -0.14632985 -0.17103368\n",
      "   -0.08599178]\n",
      "  ..., \n",
      "  [-0.16744317 -0.1040375   0.10350852 ..., -0.03636094 -0.16343849\n",
      "   -0.16307074]\n",
      "  [-0.09714824 -0.18682549  0.1410088  ..., -0.03229652 -0.12385927\n",
      "   -0.05425908]\n",
      "  [-0.18114702 -0.13218115  0.0667441  ..., -0.06133639 -0.09656985\n",
      "    0.02277166]]\n",
      "\n",
      " [[ 0.04160252  0.04027065 -0.00847706 ...,  0.0154691   0.15063348\n",
      "   -0.05006728]\n",
      "  [ 0.08450134  0.0162587   0.07329287 ...,  0.02449216  0.0958936\n",
      "   -0.02965214]\n",
      "  [-0.06670252 -0.0317185  -0.0281008  ...,  0.02525565  0.054429\n",
      "   -0.11545941]\n",
      "  ..., \n",
      "  [ 0.          0.          0.         ...,  0.          0.          0.        ]\n",
      "  [ 0.          0.          0.         ...,  0.          0.          0.        ]\n",
      "  [ 0.          0.          0.         ...,  0.          0.          0.        ]]]\n"
     ]
    }
   ],
   "source": [
    "tf.reset_default_graph()\n",
    "\n",
    "# Create input data\n",
    "X = np.random.randn(2, 10, 8)\n",
    "\n",
    "# The second example is of length 6 \n",
    "X[1,6,:] = 0\n",
    "X_lengths = [10, 6]\n",
    "\n",
    "cell = tf.nn.rnn_cell.LSTMCell(num_units=64, state_is_tuple=True)\n",
    "\n",
    "outputs, last_states = tf.nn.dynamic_rnn(\n",
    "    cell=cell,\n",
    "    dtype=tf.float64,\n",
    "    sequence_length=X_lengths,\n",
    "    inputs=X)\n",
    "\n",
    "result = tf.contrib.learn.run_n(\n",
    "    {\"outputs\": outputs, \"last_states\": last_states},\n",
    "    n=1,\n",
    "    feed_dict=None)\n",
    "\n",
    "assert result[0][\"outputs\"].shape == (2, 10, 64)\n",
    "print(result[0][\"outputs\"])\n",
    "\n",
    "# Outputs for the second example past past length 6 should be 0\n",
    "assert (result[0][\"outputs\"][1,7,:] == np.zeros(cell.output_size)).all()"
   ]
  },
  {
   "cell_type": "code",
   "execution_count": null,
   "metadata": {
    "collapsed": true
   },
   "outputs": [],
   "source": []
  }
 ],
 "metadata": {
  "kernelspec": {
   "display_name": "Python 3",
   "language": "python",
   "name": "python3"
  },
  "language_info": {
   "codemirror_mode": {
    "name": "ipython",
    "version": 3
   },
   "file_extension": ".py",
   "mimetype": "text/x-python",
   "name": "python",
   "nbconvert_exporter": "python",
   "pygments_lexer": "ipython3",
   "version": "3.5.1"
  }
 },
 "nbformat": 4,
 "nbformat_minor": 0
}
