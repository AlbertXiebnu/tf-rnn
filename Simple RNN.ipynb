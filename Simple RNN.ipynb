{
 "cells": [
  {
   "cell_type": "code",
   "execution_count": 259,
   "metadata": {
    "collapsed": true
   },
   "outputs": [],
   "source": [
    "from sklearn.cross_validation import train_test_split\n",
    "import tensorflow as tf\n",
    "import pandas as pd\n",
    "import numpy as np\n",
    "import functools\n",
    "import csv"
   ]
  },
  {
   "cell_type": "code",
   "execution_count": 260,
   "metadata": {
    "collapsed": true
   },
   "outputs": [],
   "source": [
    "tf.logging.set_verbosity(tf.logging.INFO)"
   ]
  },
  {
   "cell_type": "code",
   "execution_count": 261,
   "metadata": {
    "collapsed": false
   },
   "outputs": [],
   "source": [
    "# Load Data\n",
    "with open(\"/Users/dennybritz/Downloads/reddit_2008_01.txt\") as f:\n",
    "    reader = csv.reader(f)\n",
    "    data_raw = [x[0] + \" EOS\" for x in reader]"
   ]
  },
  {
   "cell_type": "code",
   "execution_count": 262,
   "metadata": {
    "collapsed": false
   },
   "outputs": [
    {
     "data": {
      "text/plain": [
       "<tensorflow.contrib.learn.python.learn.preprocessing.text.VocabularyProcessor at 0x11ea85208>"
      ]
     },
     "execution_count": 262,
     "metadata": {},
     "output_type": "execute_result"
    }
   ],
   "source": [
    "# Preprocess data\n",
    "vocab = tf.contrib.learn.preprocessing.text.VocabularyProcessor(max_document_length=25, min_frequency=1000)\n",
    "vocab.fit(data_raw)"
   ]
  },
  {
   "cell_type": "code",
   "execution_count": 263,
   "metadata": {
    "collapsed": false
   },
   "outputs": [],
   "source": [
    "VOCAB_SIZE = len(vocab.vocabulary_)\n",
    "x = np.array(list(vocab.transform(data_raw)))\n",
    "x_lengths = np.array([len(_) for _ in vocab._tokenizer(data_raw)])\n",
    "y = np.array([_[1:] for _ in x])"
   ]
  },
  {
   "cell_type": "code",
   "execution_count": 264,
   "metadata": {
    "collapsed": false
   },
   "outputs": [
    {
     "data": {
      "text/plain": [
       "1306"
      ]
     },
     "execution_count": 264,
     "metadata": {},
     "output_type": "execute_result"
    }
   ],
   "source": [
    "len(vocab.vocabulary_)"
   ]
  },
  {
   "cell_type": "code",
   "execution_count": 265,
   "metadata": {
    "collapsed": true
   },
   "outputs": [],
   "source": [
    "x_train, x_test, x_len_train, x_len_test, y_train, y_test = train_test_split(x, x_lengths, y, test_size=10000)"
   ]
  },
  {
   "cell_type": "code",
   "execution_count": 266,
   "metadata": {
    "collapsed": false
   },
   "outputs": [
    {
     "name": "stdout",
     "output_type": "stream",
     "text": [
      "Training:\n",
      "(380367, 25)\n",
      "(380367, 24)\n",
      "\n",
      "Testing:\n",
      "(10000, 25)\n",
      "(10000, 24)\n"
     ]
    }
   ],
   "source": [
    "print(\"Training:\")\n",
    "print(x_train.shape)\n",
    "print(y_train.shape)\n",
    "\n",
    "print(\"\\nTesting:\")\n",
    "print(x_test.shape)\n",
    "print(y_test.shape)"
   ]
  },
  {
   "cell_type": "code",
   "execution_count": 270,
   "metadata": {
    "collapsed": false
   },
   "outputs": [],
   "source": [
    "BATCH_SIZE = 8\n",
    "def create_input_fn(x, x_len, y):\n",
    "    def input_fn():\n",
    "        x_batch, x_batch_len, y_batch = tf.train.batch(\n",
    "            [x, x_len, y],\n",
    "            batch_size=BATCH_SIZE,\n",
    "            enqueue_many=True)\n",
    "        return {\n",
    "            \"x\": x_batch,\n",
    "            \"x_len\": x_batch_len,\n",
    "        }, y_batch\n",
    "    return input_fn"
   ]
  },
  {
   "cell_type": "code",
   "execution_count": 271,
   "metadata": {
    "collapsed": true
   },
   "outputs": [],
   "source": [
    "train_input_fn = create_input_fn(x_train, x_len_train, y_train)\n",
    "dev_input_fn = create_input_fn(x_test, x_len_test, y_test)"
   ]
  },
  {
   "cell_type": "code",
   "execution_count": 276,
   "metadata": {
    "collapsed": false
   },
   "outputs": [],
   "source": [
    "NUM_UNITS = 128\n",
    "EMBEDDING_DIM = 128\n",
    "def simple_rnn(x_dict, y_batch, mode):\n",
    "    x_batch = x_dict[\"x\"]\n",
    "    x_batch_len = x_dict[\"x_len\"]\n",
    "    y_t = tf.unpack(y_batch,  axis=1)\n",
    "    with tf.variable_scope(\"embedding\"):\n",
    "        W = tf.get_variable(\"W\", initializer=tf.random_normal_initializer(), shape=[VOCAB_SIZE, EMBEDDING_DIM])\n",
    "        x_embedded = tf.nn.embedding_lookup(W, x_batch)\n",
    "    with tf.variable_scope(\"rnn\"):\n",
    "        cell = tf.nn.rnn_cell.GRUCell(NUM_UNITS)\n",
    "        x_list = tf.unpack(x_embedded, axis=1)\n",
    "        outputs, state = tf.nn.rnn(cell, x_list, dtype=tf.float32, sequence_length=x_batch_len)\n",
    "    with tf.variable_scope(\"output\"):\n",
    "        W = tf.get_variable(\"W\", initializer=tf.random_normal_initializer(), shape=[NUM_UNITS, VOCAB_SIZE])\n",
    "        b = tf.get_variable(\"b\", initializer=tf.zeros_initializer(shape=[VOCAB_SIZE]))\n",
    "        losses = []\n",
    "        for t, o in enumerate(outputs[:-1]):\n",
    "            logits = tf.nn.xw_plus_b(o, W, b)\n",
    "            probs = tf.nn.softmax(logits)\n",
    "            loss = tf.nn.sparse_softmax_cross_entropy_with_logits(logits, y_t[t])\n",
    "            eligible_exampels = tf.to_float(tf.less(tf.to_int64(t), x_batch_len))\n",
    "            loss_filtered = loss * eligible_exampels\n",
    "            losses.append(loss_filtered)\n",
    "        avg_loss = tf.reduce_mean(tf.pack(losses))\n",
    "    train_op = tf.contrib.layers.optimize_loss(\n",
    "        loss=avg_loss,\n",
    "        global_step=tf.contrib.framework.get_global_step(),\n",
    "        learning_rate=0.001,\n",
    "        clip_gradients=10.0,\n",
    "        optimizer=\"Adam\")\n",
    "    if mode == tf.contrib.learn.ModeKeys.TRAIN:\n",
    "        return probs, avg_loss, train_op\n",
    "    else:\n",
    "        return probs, avg_loss, None"
   ]
  },
  {
   "cell_type": "code",
   "execution_count": 277,
   "metadata": {
    "collapsed": false
   },
   "outputs": [
    {
     "name": "stderr",
     "output_type": "stream",
     "text": [
      "WARNING:tensorflow:Using temporary folder as model directory: /var/folders/d3/jc_t7rns3_qf61016_0zhrh800c0pj/T/tmpzyxcff4r\n"
     ]
    }
   ],
   "source": [
    "estimator = tf.contrib.learn.Estimator(model_fn=simple_rnn)"
   ]
  },
  {
   "cell_type": "code",
   "execution_count": 278,
   "metadata": {
    "collapsed": true
   },
   "outputs": [],
   "source": [
    "vmon = tf.contrib.learn.monitors.ValidationMonitor(input_fn=dev_input_fn, every_n_steps=50)"
   ]
  },
  {
   "cell_type": "code",
   "execution_count": 279,
   "metadata": {
    "collapsed": false
   },
   "outputs": [
    {
     "name": "stderr",
     "output_type": "stream",
     "text": [
      "WARNING:tensorflow:Setting feature info to {'x': TensorSignature(dtype=tf.int64, shape=TensorShape([Dimension(8), Dimension(25)]), is_sparse=False), 'x_len': TensorSignature(dtype=tf.int64, shape=TensorShape([Dimension(8)]), is_sparse=False)}\n",
      "WARNING:tensorflow:Setting targets info to TensorSignature(dtype=tf.int64, shape=TensorShape([Dimension(8), Dimension(24)]), is_sparse=False)\n",
      "INFO:tensorflow:Create CheckpointSaver\n",
      "INFO:tensorflow:Step 1: loss = 7.55074\n",
      "INFO:tensorflow:Step 101: loss = 3.46353\n",
      "INFO:tensorflow:Step 201: loss = 3.97625\n",
      "INFO:tensorflow:Saving checkpoints for 300 into /var/folders/d3/jc_t7rns3_qf61016_0zhrh800c0pj/T/tmpzyxcff4r/model.ckpt.\n",
      "INFO:tensorflow:Step 301: loss = 3.3402\n",
      "INFO:tensorflow:Step 401: loss = 3.92536\n",
      "INFO:tensorflow:Step 501: loss = 2.74856\n",
      "INFO:tensorflow:Saving checkpoints for 600 into /var/folders/d3/jc_t7rns3_qf61016_0zhrh800c0pj/T/tmpzyxcff4r/model.ckpt.\n",
      "INFO:tensorflow:Step 601: loss = 4.35647\n",
      "INFO:tensorflow:Step 701: loss = 3.52634\n",
      "INFO:tensorflow:Step 801: loss = 3.8674\n",
      "INFO:tensorflow:Saving checkpoints for 900 into /var/folders/d3/jc_t7rns3_qf61016_0zhrh800c0pj/T/tmpzyxcff4r/model.ckpt.\n",
      "INFO:tensorflow:Step 901: loss = 3.77058\n",
      "INFO:tensorflow:Saving checkpoints for 1000 into /var/folders/d3/jc_t7rns3_qf61016_0zhrh800c0pj/T/tmpzyxcff4r/model.ckpt.\n",
      "INFO:tensorflow:Loss for final step: 3.4964.\n"
     ]
    },
    {
     "data": {
      "text/plain": [
       "Estimator(params=None)"
      ]
     },
     "execution_count": 279,
     "metadata": {},
     "output_type": "execute_result"
    }
   ],
   "source": [
    "estimator.fit(input_fn=train_input_fn, steps=1000)"
   ]
  },
  {
   "cell_type": "code",
   "execution_count": 186,
   "metadata": {
    "collapsed": false
   },
   "outputs": [
    {
     "name": "stderr",
     "output_type": "stream",
     "text": [
      "WARNING:tensorflow:Given features: {'x': <tf.Tensor 'batch:0' shape=(32, 20) dtype=int64>, 'x_len': <tf.Tensor 'batch:1' shape=(32,) dtype=int64>}, required signatures: {'x': TensorSignature(dtype=tf.int64, shape=TensorShape([Dimension(32), Dimension(20)]), is_sparse=False), 'x_len': TensorSignature(dtype=tf.int64, shape=TensorShape([Dimension(32)]), is_sparse=False)}.\n",
      "WARNING:tensorflow:Given targets: Tensor(\"batch:2\", shape=(32, 19), dtype=int64), required signatures: TensorSignature(dtype=tf.int64, shape=TensorShape([Dimension(32), Dimension(19)]), is_sparse=False).\n"
     ]
    },
    {
     "data": {
      "text/plain": [
       "{'global_step': 10, 'loss': 2.5806007}"
      ]
     },
     "execution_count": 186,
     "metadata": {},
     "output_type": "execute_result"
    }
   ],
   "source": [
    "estimator.evaluate(input_fn=train_input_fn, steps=100)"
   ]
  },
  {
   "cell_type": "code",
   "execution_count": null,
   "metadata": {
    "collapsed": true
   },
   "outputs": [],
   "source": []
  }
 ],
 "metadata": {
  "kernelspec": {
   "display_name": "Python 3",
   "language": "python",
   "name": "python3"
  },
  "language_info": {
   "codemirror_mode": {
    "name": "ipython",
    "version": 3
   },
   "file_extension": ".py",
   "mimetype": "text/x-python",
   "name": "python",
   "nbconvert_exporter": "python",
   "pygments_lexer": "ipython3",
   "version": "3.5.1"
  }
 },
 "nbformat": 4,
 "nbformat_minor": 0
}
